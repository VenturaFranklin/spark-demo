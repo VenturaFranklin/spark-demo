{
 "cells": [
  {
   "cell_type": "code",
   "execution_count": 1,
   "metadata": {
    "scrolled": true
   },
   "outputs": [],
   "source": [
    "import pyspark\n",
    "from pyspark.sql import Row\n",
    "from pyspark.sql import SparkSession\n",
    "import re\n",
    "\n",
    "sc = pyspark.SparkContext('local[*]')\n",
    "spark = SparkSession(sc)\n",
    "\n",
    "# example from https://community.hortonworks.com/articles/108622/pyspark-helper-function-to-parse-apache-logs.html"
   ]
  },
  {
   "cell_type": "code",
   "execution_count": 7,
   "metadata": {},
   "outputs": [
    {
     "data": {
      "text/plain": [
       "914724"
      ]
     },
     "execution_count": 7,
     "metadata": {},
     "output_type": "execute_result"
    }
   ],
   "source": [
    "\n",
    "APACHE_ACCESS_LOG_PATTERN = '^(\\S+) (\\S+) (\\S+) \\[([\\w:/]+\\s[+\\-]\\d{4})\\] \"(\\S+) (\\S+) (\\S+)\" (\\d{3}) (\\d+)?'\n",
    "     \n",
    "# Returns a dictionary containing the parts of the Apache Access Log.\n",
    "def parse_apache_log_line(logline):\n",
    "    match = re.search(APACHE_ACCESS_LOG_PATTERN, logline)\n",
    "    if match is None:\n",
    "        # Optionally, you can change this to just ignore if each line of data is not critical.\n",
    "        # For this example, we want to ensure that the format is consistent.\n",
    "        raise Exception(\"Invalid logline: %s\" % logline)\n",
    "        #next\n",
    "    if match.group(9) in (None, \"-\"):\n",
    "        size = 0\n",
    "    else:\n",
    "        size = match.group(9)\n",
    "    return Row(\n",
    "        ipAddress    = str(match.group(1)),\n",
    "        clientIdentd = str(match.group(2)),\n",
    "        userId       = str(match.group(3)),\n",
    "        dateTime     = str(match.group(4)),\n",
    "        method       = str(match.group(5)),\n",
    "        endpoint     = str(match.group(6)),\n",
    "        protocol     = str(match.group(7)),\n",
    "        responseCode = int(match.group(8)),\n",
    "        contentSize  = int(size)\n",
    "    )\n",
    "     \n",
    "log_files = \"file:///home/jovyan/work/access.log\"\n",
    "raw_log_files = sc.textFile(log_files)\n",
    "raw_log_files.count()\n",
    "     \n",
    "parsed_log_files = raw_log_files.map(parse_apache_log_line)\n",
    "parsed_log_files.toDF().registerTempTable(\"log_data\")\n",
    "parsed_log_files.count()\n",
    "\n"
   ]
  },
  {
   "cell_type": "code",
   "execution_count": 11,
   "metadata": {
    "scrolled": true
   },
   "outputs": [
    {
     "name": "stdout",
     "output_type": "stream",
     "text": [
      "+------+---------------+\n",
      "| count|      ipAddress|\n",
      "+------+---------------+\n",
      "|167812| 198.50.156.189|\n",
      "| 97533|   149.56.83.40|\n",
      "| 33302| 205.167.170.15|\n",
      "| 17904| 134.249.53.185|\n",
      "| 16358|  178.159.37.81|\n",
      "| 13474|192.227.172.158|\n",
      "| 10996| 195.154.216.79|\n",
      "| 10943|    158.64.79.7|\n",
      "| 10612|    158.64.79.8|\n",
      "|  7705|195.154.215.241|\n",
      "|  6426|   37.59.222.30|\n",
      "|  5994|  14.139.208.84|\n",
      "|  5664|   41.75.96.130|\n",
      "|  5662| 190.57.154.101|\n",
      "|  5659|   154.0.14.250|\n",
      "|  4629|    54.37.1.236|\n",
      "|  4435|  85.10.113.129|\n",
      "|  3780|   37.1.206.196|\n",
      "|  3207|  79.142.95.122|\n",
      "|  2840| 78.186.191.187|\n",
      "+------+---------------+\n",
      "only showing top 20 rows\n",
      "\n"
     ]
    }
   ],
   "source": [
    "sqlDF = spark.sql(\"SELECT count(*) as count, ipAddress FROM log_data GROUP BY ipAddress ORDER BY count DESC\")\n",
    "sqlDF.show()"
   ]
  },
  {
   "cell_type": "code",
   "execution_count": null,
   "metadata": {},
   "outputs": [],
   "source": []
  }
 ],
 "metadata": {
  "kernelspec": {
   "display_name": "Python 3",
   "language": "python",
   "name": "python3"
  },
  "language_info": {
   "codemirror_mode": {
    "name": "ipython",
    "version": 3
   },
   "file_extension": ".py",
   "mimetype": "text/x-python",
   "name": "python",
   "nbconvert_exporter": "python",
   "pygments_lexer": "ipython3",
   "version": "3.6.3"
  }
 },
 "nbformat": 4,
 "nbformat_minor": 2
}
